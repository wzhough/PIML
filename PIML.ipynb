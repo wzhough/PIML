{
 "cells": [
  {
   "cell_type": "markdown",
   "metadata": {},
   "source": [
    "# Data pre-processing"
   ]
  },
  {
   "cell_type": "code",
   "execution_count": null,
   "metadata": {},
   "outputs": [],
   "source": [
    "print(__doc__)\n",
    "from collections import defaultdict\n",
    "from scipy.stats import spearmanr\n",
    "from scipy.cluster import hierarchy\n",
    "import numpy as np\n",
    "import pandas as pd\n",
    "import scipy as sp\n",
    "import matplotlib.pyplot as plt\n",
    "import seaborn as sns\n",
    "from sklearn.preprocessing import StandardScaler"
   ]
  },
  {
   "cell_type": "code",
   "execution_count": null,
   "metadata": {},
   "outputs": [],
   "source": [
    "data=pd.read_csv()"
   ]
  },
  {
   "cell_type": "code",
   "execution_count": null,
   "metadata": {},
   "outputs": [],
   "source": [
    "from sklearn.model_selection import train_test_split\n",
    "\n",
    "X_train, X_test, y_train, y_test = train_test_split(X, y, test_size=0.3, random_state=0)"
   ]
  },
  {
   "cell_type": "markdown",
   "metadata": {},
   "source": [
    "# ML models "
   ]
  },
  {
   "cell_type": "markdown",
   "metadata": {},
   "source": [
    "## Decision tree"
   ]
  },
  {
   "cell_type": "code",
   "execution_count": null,
   "metadata": {},
   "outputs": [],
   "source": [
    "import matplotlib.pyplot as plt\n",
    "import numpy as np\n",
    "from sklearn import datasets, ensemble\n",
    "from sklearn.inspection import permutation_importance\n",
    "from sklearn.metrics import mean_squared_error\n",
    "from sklearn.model_selection import train_test_split\n",
    "import pandas as pd\n",
    "import numpy as np"
   ]
  },
  {
   "cell_type": "code",
   "execution_count": null,
   "metadata": {},
   "outputs": [],
   "source": [
    "from sklearn.tree import DecisionTreeRegressor"
   ]
  },
  {
   "cell_type": "markdown",
   "metadata": {},
   "source": [
    "X_train,X_test,y_train,y_test datasets readin"
   ]
  },
  {
   "cell_type": "code",
   "execution_count": null,
   "metadata": {},
   "outputs": [],
   "source": [
    "from sklearn.preprocessing import StandardScaler\n",
    "\n",
    "sc = StandardScaler()\n",
    "X_train = sc.fit_transform(X_train)\n",
    "X_test = sc.transform(X_tes"
   ]
  },
  {
   "cell_type": "code",
   "execution_count": null,
   "metadata": {},
   "outputs": [],
   "source": [
    "regressor = DecisionTreeRegressor(max_depth=)\n",
    "regressor.fit(X_train, y_train)"
   ]
  },
  {
   "cell_type": "code",
   "execution_count": null,
   "metadata": {},
   "outputs": [],
   "source": [
    "y_pred =regressor.fit(X_train, y_train).predict(X_test)"
   ]
  },
  {
   "cell_type": "code",
   "execution_count": null,
   "metadata": {},
   "outputs": [],
   "source": [
    "y_pred_train = regressor.predict(X_train)\n",
    "accuracy_train= regressor.score(X_train, y_train)\n",
    "string_score_train = f'Training accuracy: {accuracy_train:.2f}'\n",
    "\n",
    "y_pred_test = regressor.predict(X_test)\n",
    "accuracy_test = regressor.score(X_test, y_test)\n",
    "string_score_test= f'Testing accuracy: {accuracy_test:.2f}'\n",
    "\n",
    "fig, ax = plt.subplots(figsize=(6,6))\n",
    "ax = plt.gca()\n",
    "\n",
    "plt.scatter(y_train, y_pred_train, marker=\"*\",s=15,color=\"b\",label='Predictions of train set')\n",
    "ax.plot([0, 1], [0, 1], transform=ax.transAxes, ls=\"-\", c=\"black\",label='Predictions = Monitorings')\n",
    "\n",
    "ax.scatter(y_test, y_pred_test, marker=\"o\",s=15,color = \"r\",label='Predictions of test set')\n",
    "\n",
    "plt.text()\n",
    "plt.text()\n",
    "plt.title()\n",
    "plt.ylabel()\n",
    "plt.xlabel()\n",
    "ax.legend()\n",
    "\n",
    "plt.savefig()"
   ]
  },
  {
   "cell_type": "markdown",
   "metadata": {},
   "source": [
    "## Random Forest"
   ]
  },
  {
   "cell_type": "code",
   "execution_count": null,
   "metadata": {},
   "outputs": [],
   "source": [
    "import matplotlib.pyplot as plt\n",
    "import numpy as np\n",
    "\n",
    "from sklearn.datasets import fetch_openml\n",
    "from sklearn.ensemble import RandomForestClassifier\n",
    "from sklearn.impute import SimpleImputer\n",
    "from sklearn.inspection import permutation_importance\n",
    "from sklearn.compose import ColumnTransformer\n",
    "from sklearn.model_selection import train_test_split\n",
    "from sklearn.pipeline import Pipeline\n",
    "from sklearn.preprocessing import OneHotEncoder"
   ]
  },
  {
   "cell_type": "code",
   "execution_count": null,
   "metadata": {},
   "outputs": [],
   "source": [
    "X_train,X_test,y_train,y_test datasets readin"
   ]
  },
  {
   "cell_type": "code",
   "execution_count": null,
   "metadata": {},
   "outputs": [],
   "source": [
    "from sklearn.preprocessing import StandardScaler\n",
    "\n",
    "sc = StandardScaler()\n",
    "X_train = sc.fit_transform(X_train)\n",
    "X_test = sc.transform(X_test)"
   ]
  },
  {
   "cell_type": "code",
   "execution_count": null,
   "metadata": {},
   "outputs": [],
   "source": [
    "from sklearn.ensemble import RandomForestRegressor\n",
    "regressor = RandomForestRegressor(n_estimators=, random_state=0)"
   ]
  },
  {
   "cell_type": "code",
   "execution_count": null,
   "metadata": {},
   "outputs": [],
   "source": [
    "from sklearn.ensemble import RandomForestRegressor\n",
    "\n",
    "regressor = RandomForestRegressor(n_estimators=10, random_state=0)\n",
    "regressor.fit(X_train, y_train)"
   ]
  },
  {
   "cell_type": "code",
   "execution_count": null,
   "metadata": {},
   "outputs": [],
   "source": [
    "y_pred_train = regressor.predict(X_train)\n",
    "accuracy_train= regressor.score(X_train, y_train)\n",
    "string_score_train = f'Training accuracy: {accuracy_train:.2f}'\n",
    "\n",
    "y_pred_test = regressor.predict(X_test)\n",
    "accuracy_test = regressor.score(X_test, y_test)\n",
    "string_score_test= f'Testing accuracy: {accuracy_test:.2f}'\n",
    "\n",
    "fig, ax = plt.subplots(figsize=(6, 6))\n",
    "ax = plt.gca()\n",
    "\n",
    "plt.scatter(y_train, y_pred_train, marker=\"*\",s=15,color=\"b\",label='Predictions of train set')\n",
    "ax.plot([0, 1], [0, 1], transform=ax.transAxes, ls=\"-\", c=\"black\",label='Predictions = Monitorings')\n",
    "\n",
    "ax.scatter(y_test, y_pred_test, marker=\"o\",s=15,color = \"r\",label='Predictions of test set')\n",
    "\n",
    "plt.text()\n",
    "plt.text()\n",
    "plt.title()\n",
    "plt.ylabel()\n",
    "plt.xlabel()\n",
    "ax.legend()\n",
    "\n",
    "plt.savefig()"
   ]
  },
  {
   "cell_type": "markdown",
   "metadata": {},
   "source": [
    "## Gradient boosting"
   ]
  },
  {
   "cell_type": "code",
   "execution_count": null,
   "metadata": {},
   "outputs": [],
   "source": [
    "import matplotlib.pyplot as plt\n",
    "import numpy as np\n",
    "from sklearn import datasets, ensemble\n",
    "from sklearn.inspection import permutation_importance\n",
    "from sklearn.metrics import mean_squared_error\n",
    "from sklearn.model_selection import train_test_split\n",
    "import pandas as pd\n",
    "import numpy as np"
   ]
  },
  {
   "cell_type": "code",
   "execution_count": null,
   "metadata": {},
   "outputs": [],
   "source": [
    "X_train,X_test,y_train,y_test datasets readin"
   ]
  },
  {
   "cell_type": "code",
   "execution_count": null,
   "metadata": {},
   "outputs": [],
   "source": [
    "from sklearn.preprocessing import StandardScaler\n",
    "\n",
    "sc = StandardScaler()\n",
    "X_train = sc.fit_transform(X_train)\n",
    "X_test = sc.transform(X_test)"
   ]
  },
  {
   "cell_type": "code",
   "execution_count": null,
   "metadata": {},
   "outputs": [],
   "source": [
    "params = { }"
   ]
  },
  {
   "cell_type": "code",
   "execution_count": null,
   "metadata": {},
   "outputs": [],
   "source": [
    "regressor = ensemble.GradientBoostingRegressor(**params)\n",
    "regressor.fit(X_train, y_train)"
   ]
  },
  {
   "cell_type": "code",
   "execution_count": null,
   "metadata": {},
   "outputs": [],
   "source": [
    "y_pred_train = regressor.predict(X_train)\n",
    "accuracy_train= regressor.score(X_train, y_train)\n",
    "string_score_train = f'Training accuracy: {accuracy_train:.2f}'\n",
    "\n",
    "y_pred_test = regressor.predict(X_test)\n",
    "accuracy_test = regressor.score(X_test, y_test)\n",
    "string_score_test= f'Testing accuracy: {accuracy_test:.2f}'\n",
    "\n",
    "fig, ax = plt.subplots(figsize=(6, 6))\n",
    "ax = plt.gca()\n",
    "\n",
    "plt.scatter(y_train, y_pred_train, marker=\"*\",s=15,color=\"b\",label='Predictions of train set')\n",
    "ax.plot([0, 1], [0, 1], transform=ax.transAxes, ls=\"-\", c=\"black\",label='Predictions = Monitorings')\n",
    "\n",
    "ax.scatter(y_test, y_pred_test, marker=\"o\",s=15,color = \"r\",label='Predictions of test set')\n",
    "\n",
    "\n",
    "plt.text()\n",
    "plt.text()\n",
    "plt.title()\n",
    "plt.ylabel()\n",
    "plt.xlabel()\n",
    "ax.legend()\n",
    "\n",
    "plt.savefig()"
   ]
  },
  {
   "cell_type": "markdown",
   "metadata": {},
   "source": [
    "## Voting regression "
   ]
  },
  {
   "cell_type": "code",
   "execution_count": null,
   "metadata": {},
   "outputs": [],
   "source": [
    "import matplotlib.pyplot as plt\n",
    "\n",
    "from sklearn.datasets import load_diabetes\n",
    "from sklearn.ensemble import GradientBoostingRegressor\n",
    "from sklearn.ensemble import RandomForestRegressor\n",
    "from sklearn.tree import DecisionTreeRegressor\n",
    "from sklearn.linear_model import LinearRegression\n",
    "from sklearn.ensemble import VotingRegressor"
   ]
  },
  {
   "cell_type": "code",
   "execution_count": null,
   "metadata": {},
   "outputs": [],
   "source": [
    "X_train,X_test,y_train,y_test datasets readin"
   ]
  },
  {
   "cell_type": "code",
   "execution_count": null,
   "metadata": {},
   "outputs": [],
   "source": [
    "from sklearn.preprocessing import StandardScaler\n",
    "\n",
    "sc = StandardScaler()\n",
    "X_train = sc.fit_transform(X_train)\n",
    "X_test = sc.transform(X_test)"
   ]
  },
  {
   "cell_type": "code",
   "execution_count": null,
   "metadata": {},
   "outputs": [],
   "source": [
    "reg1 = GradientBoostingRegressor(random_state=1)\n",
    "reg2 = RandomForestRegressor(random_state=1)\n",
    "reg3 = DecisionTreeRegressor()"
   ]
  },
  {
   "cell_type": "code",
   "execution_count": null,
   "metadata": {},
   "outputs": [],
   "source": [
    "reg1.fit(X_train, y_train)\n",
    "reg2.fit(X_train, y_train)\n",
    "reg3.fit(X_train, y_train)"
   ]
  },
  {
   "cell_type": "code",
   "execution_count": null,
   "metadata": {},
   "outputs": [],
   "source": [
    "regressor = VotingRegressor([('gb', reg1), ('rf', reg2), ('dt', reg3)])\n",
    "regressor.fit(X_train, y_train)"
   ]
  },
  {
   "cell_type": "code",
   "execution_count": null,
   "metadata": {},
   "outputs": [],
   "source": [
    "y_pred_train = regressor.predict(X_train)\n",
    "accuracy_train= regressor.score(X_train, y_train)\n",
    "string_score_train = f'Training accuracy: {accuracy_train:.2f}'\n",
    "\n",
    "y_pred_test = regressor.predict(X_test)\n",
    "accuracy_test = regressor.score(X_test, y_test)\n",
    "string_score_test= f'Testing accuracy: {accuracy_test:.2f}'\n",
    "\n",
    "fig, ax = plt.subplots(figsize=(6, 6))\n",
    "ax = plt.gca()\n",
    "\n",
    "plt.scatter(y_train, y_pred_train, marker=\"*\",s=15,color=\"b\",label='Predictions of training set')\n",
    "ax.plot([0, 1], [0, 1], transform=ax.transAxes, ls=\"-\", c=\"black\",label='Predictions = Observations')\n",
    "\n",
    "ax.scatter(y_test, y_pred_test, marker=\"o\",s=15,color = \"r\",label='Predictions of test set')\n",
    "\n",
    "\n",
    "plt.text()\n",
    "plt.text()\n",
    "plt.title()\n",
    "plt.ylabel()\n",
    "plt.xlabel()\n",
    "ax.legend()\n",
    "\n",
    "plt.savefig()"
   ]
  }
 ],
 "metadata": {
  "kernelspec": {
   "display_name": "Python [conda env:insar] *",
   "language": "python",
   "name": "conda-env-insar-py"
  },
  "language_info": {
   "codemirror_mode": {
    "name": "ipython",
    "version": 3
   },
   "file_extension": ".py",
   "mimetype": "text/x-python",
   "name": "python",
   "nbconvert_exporter": "python",
   "pygments_lexer": "ipython3",
   "version": "3.6.11"
  },
  "toc": {
   "base_numbering": 1,
   "nav_menu": {},
   "number_sections": true,
   "sideBar": true,
   "skip_h1_title": false,
   "title_cell": "Table of Contents",
   "title_sidebar": "Contents",
   "toc_cell": false,
   "toc_position": {
    "height": "calc(100% - 180px)",
    "left": "10px",
    "top": "150px",
    "width": "250.43478393554688px"
   },
   "toc_section_display": true,
   "toc_window_display": false
  }
 },
 "nbformat": 4,
 "nbformat_minor": 4
}
